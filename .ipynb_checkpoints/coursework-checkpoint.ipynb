{
 "cells": [
  {
   "cell_type": "code",
   "execution_count": 1,
   "metadata": {},
   "outputs": [
    {
     "name": "stderr",
     "output_type": "stream",
     "text": [
      "C:\\ProgramData\\Anaconda3\\lib\\site-packages\\sklearn\\ensemble\\weight_boosting.py:29: DeprecationWarning: numpy.core.umath_tests is an internal NumPy module and should not be imported. It will be removed in a future NumPy release.\n",
      "  from numpy.core.umath_tests import inner1d\n"
     ]
    }
   ],
   "source": [
    "# Imports\n",
    "import pandas as pd\n",
    "import matplotlib.pyplot as plt\n",
    "import sklearn.preprocessing as pre\n",
    "from sklearn_pandas import DataFrameMapper\n",
    "from sklearn.linear_model import LogisticRegression\n",
    "import numpy as np\n",
    "\n",
    "from matplotlib.colors import ListedColormap\n",
    "from sklearn.model_selection import train_test_split\n",
    "from sklearn.preprocessing import StandardScaler\n",
    "\n",
    "from sklearn.svm import SVC\n",
    "from sklearn.metrics import accuracy_score\n",
    "\n",
    "from sklearn.model_selection import train_test_split\n",
    "from sklearn.model_selection import GridSearchCV\n",
    "from sklearn.metrics import classification_report\n",
    "\n",
    "from sklearn.tree import DecisionTreeClassifier\n",
    "from sklearn.ensemble import RandomForestClassifier\n",
    "\n",
    "import sklearn.metrics as met"
   ]
  },
  {
   "cell_type": "markdown",
   "metadata": {},
   "source": [
    "# Introduction\n",
    "\n",
    "## Report and Problem Introduction\n",
    "\n",
    "This report documents the analysis and modelling of the Titanic dataset from a Kaggle competition in attempt to predict survival. The titanic dataset stores 11 attributes about the passengers of the ocean linear from the aforementioned survival, age, sex, etc. During this analysis, the dataset will be summarise using exploratory techinques and then modelled with machine learning methods. The methods will be compared using their accuracy and other relevent features and will be used to observe the general traits that effect survival. "
   ]
  },
  {
   "cell_type": "code",
   "execution_count": 2,
   "metadata": {},
   "outputs": [
    {
     "name": "stdout",
     "output_type": "stream",
     "text": [
      "Train Counts: Initial\n",
      "PassengerId    891\n",
      "Survived       891\n",
      "Pclass         891\n",
      "Name           891\n",
      "Sex            891\n",
      "Age            714\n",
      "SibSp          891\n",
      "Parch          891\n",
      "Ticket         891\n",
      "Fare           891\n",
      "Cabin          204\n",
      "Embarked       889\n",
      "dtype: int64\n",
      "Test Counts: Initial\n",
      "PassengerId    418\n",
      "Survived       418\n",
      "Pclass         418\n",
      "Name           418\n",
      "Sex            418\n",
      "Age            332\n",
      "SibSp          418\n",
      "Parch          418\n",
      "Ticket         418\n",
      "Fare           417\n",
      "Cabin           91\n",
      "Embarked       418\n",
      "dtype: int64\n",
      "Train Counts: After dropping fields\n",
      "Survived    891\n",
      "Pclass      891\n",
      "Sex         891\n",
      "Age         714\n",
      "SibSp       891\n",
      "Parch       891\n",
      "Fare        891\n",
      "Embarked    889\n",
      "dtype: int64\n",
      "Test Counts: After dropping fields\n",
      "Survived    418\n",
      "Pclass      418\n",
      "Sex         418\n",
      "Age         332\n",
      "SibSp       418\n",
      "Parch       418\n",
      "Fare        417\n",
      "Embarked    418\n",
      "dtype: int64\n",
      "Train Counts: After fixing Age NAs\n",
      "Survived    891\n",
      "Pclass      891\n",
      "Sex         891\n",
      "Age         891\n",
      "SibSp       891\n",
      "Parch       891\n",
      "Fare        891\n",
      "Embarked    889\n",
      "dtype: int64\n",
      "Test Counts: After fixing Age NAs\n",
      "Survived    418\n",
      "Pclass      418\n",
      "Sex         418\n",
      "Age         418\n",
      "SibSp       418\n",
      "Parch       418\n",
      "Fare        417\n",
      "Embarked    418\n",
      "dtype: int64\n",
      "Train Counts: After dropping rows with NAs\n",
      "Survived    889\n",
      "Pclass      889\n",
      "Sex         889\n",
      "Age         889\n",
      "SibSp       889\n",
      "Parch       889\n",
      "Fare        889\n",
      "Embarked    889\n",
      "dtype: int64\n",
      "Test Counts: After dropping rows with NAs\n",
      "Survived    417\n",
      "Pclass      417\n",
      "Sex         417\n",
      "Age         417\n",
      "SibSp       417\n",
      "Parch       417\n",
      "Fare        417\n",
      "Embarked    417\n",
      "dtype: int64\n"
     ]
    },
    {
     "name": "stderr",
     "output_type": "stream",
     "text": [
      "C:\\ProgramData\\Anaconda3\\lib\\site-packages\\pandas\\core\\generic.py:5434: SettingWithCopyWarning: \n",
      "A value is trying to be set on a copy of a slice from a DataFrame\n",
      "\n",
      "See the caveats in the documentation: http://pandas.pydata.org/pandas-docs/stable/indexing.html#indexing-view-versus-copy\n",
      "  self._update_inplace(new_data)\n"
     ]
    }
   ],
   "source": [
    "# Data Loading\n",
    "\n",
    "# load using pandas to get pandas dfs\n",
    "trainDf = pd.read_csv('train.csv')\n",
    "testDf = pd.read_csv('test.csv')\n",
    "\n",
    "# Data Cleaning Functions\n",
    "\n",
    "# Drops unrequired fields (id, ticket, cabin and name)\n",
    "def dropFields(df):\n",
    "    df = df.drop('PassengerId', axis=1)\n",
    "    df = df.drop('Ticket', axis=1)\n",
    "    df = df.drop('Cabin', axis=1)\n",
    "    df = df.drop('Name', axis=1)\n",
    "    return(df)\n",
    "\n",
    "# replaces a given NA ages with averages\n",
    "def fixNaAges(df, sex):\n",
    "    # find Df for chosen Sex and record average age\n",
    "    sexDf = df[df.Sex == sex] \n",
    "    avgSexAge = int(round(sexDf.Age.mean()))\n",
    "    \n",
    "    # Update Age NAs with the calculated average \n",
    "    sexDf.fillna({'Age':avgSexAge}, inplace = True)\n",
    "    \n",
    "    # copy updated Df for chosen sex to df and return\n",
    "    df[df.Sex == sex] = sexDf\n",
    "    return(df)\n",
    "\n",
    "# prints counts for the two dfs\n",
    "def printCounts(trainDf, testDf, caption):\n",
    "    print(\"Train Counts: \" + caption)\n",
    "    print(trainDf.count())\n",
    "    print(\"Test Counts: \" + caption)\n",
    "    print(testDf.count())\n",
    "    \n",
    "# Data cleaning\n",
    "\n",
    "# Print inital counts \n",
    "printCounts(trainDf, testDf, \"Initial\")\n",
    "\n",
    "# Drop Fields\n",
    "cTrainDf = dropFields(trainDf)\n",
    "cTestDf = dropFields(testDf)\n",
    "printCounts(cTrainDf, cTestDf, \"After dropping fields\")\n",
    "\n",
    "# Fix age NAs with sex average ages\n",
    "cTrainDf = fixNaAges(cTrainDf, \"male\")\n",
    "cTrainDf = fixNaAges(cTrainDf, \"female\")\n",
    "cTestDf = fixNaAges(cTestDf, \"male\")\n",
    "cTestDf = fixNaAges(cTestDf, \"female\")\n",
    "printCounts(cTrainDf, cTestDf, \"After fixing Age NAs\")\n",
    "\n",
    "# Drop any left NAs (a few from embarkment and fare)\n",
    "cTestDf = cTestDf.dropna(axis = 0)\n",
    "cTrainDf = cTrainDf.dropna(axis = 0)\n",
    "printCounts(cTrainDf, cTestDf, \"After dropping rows with NAs\")"
   ]
  },
  {
   "cell_type": "markdown",
   "metadata": {},
   "source": [
    "## Dataset and Cleaning\n",
    "\n",
    "Basic data cleaning was done with the assistance of the Pandas library functions (used for the data frames). In the data cleaning process, fields with a lot of null values (cabin) and values that are difficult to model (e.g. names, ids and tickets) are removed. Also, null values in the age fields are updated by using the averages of the age for each sex, this is done instead of dropping them to avoid losing other patterns in rows while maintaining the average ages. Lastly, rows with nulls in the fare field (1 in the test data) and embarked (2 in the training data) are removed, no attempt was made to replace them because the small number of removed fields will not have an sizable impact on the data."
   ]
  },
  {
   "cell_type": "markdown",
   "metadata": {},
   "source": [
    "## Graphical Summaries and Transformations"
   ]
  },
  {
   "cell_type": "code",
   "execution_count": 3,
   "metadata": {},
   "outputs": [],
   "source": [
    "# Combine both data sets for summaries \n",
    "df = pd.concat([cTestDf, cTrainDf], sort = False)"
   ]
  },
  {
   "cell_type": "markdown",
   "metadata": {},
   "source": [
    "### Categorical Data (Freqency Bar Plots)"
   ]
  },
  {
   "cell_type": "code",
   "execution_count": 4,
   "metadata": {
    "scrolled": true
   },
   "outputs": [
    {
     "data": {
      "text/plain": [
       "Text(0.5,1,'Sex')"
      ]
     },
     "execution_count": 4,
     "metadata": {},
     "output_type": "execute_result"
    },
    {
     "data": {
      "image/png": "[encoded data removed]",
      "text/plain": [
       "<Figure size 432x288 with 4 Axes>"
      ]
     },
     "metadata": {
      "needs_background": "light"
     },
     "output_type": "display_data"
    }
   ],
   "source": [
    "# Adjust subplot margins\n",
    "plt.subplots_adjust(left=1, bottom=1, right=2, top=2, wspace=2, hspace=2)\n",
    "\n",
    "# plot survial bar\n",
    "plt.subplot(1, 4, 1)\n",
    "df['Survived'].value_counts().plot(kind='bar')\n",
    "plt.title('Survival Freqeuncy')\n",
    "plt.xlabel('0 Died 1 Survived')\n",
    "\n",
    "# plot passanger class bar\n",
    "plt.subplot(1, 4, 2)\n",
    "df['Pclass'].value_counts().plot(kind='bar')\n",
    "plt.title('Class Frequency')\n",
    "plt.xlabel('1st 2nd 3rd')\n",
    "\n",
    "# plot port of embarkment bar\n",
    "plt.subplot(1, 4, 3)\n",
    "df['Embarked'].value_counts().plot(kind='bar')\n",
    "plt.title('Embarked Port')\n",
    "plt.xlabel('Southampton Cherbourg Queenstown')\n",
    "\n",
    "# plot sex bar\n",
    "plt.subplot(1, 4, 4)\n",
    "df['Sex'].value_counts().plot(kind='bar')\n",
    "plt.title('Sex')"
   ]
  },
  {
   "cell_type": "markdown",
   "metadata": {},
   "source": [
    "The follwing can be observed:\n",
    "* The majority of the passengers in the data did not seem to survive the accident according to the test and training data. \n",
    "* While the majority of passengers came as 3rd class, more 1st class passengers attended than 2nd class\n",
    "* THe absolute majority of passengers came from the Cherbourg port compared to the other two (more than double Queenstown).\n",
    "* Significantly more males were in the ship the females (nearly double)"
   ]
  },
  {
   "cell_type": "markdown",
   "metadata": {},
   "source": [
    "### Numerical Data (Box Plots)"
   ]
  },
  {
   "cell_type": "code",
   "execution_count": 5,
   "metadata": {
    "scrolled": true
   },
   "outputs": [
    {
     "data": {
      "text/plain": [
       "<matplotlib.axes._subplots.AxesSubplot at 0x1b7a12f4320>"
      ]
     },
     "execution_count": 5,
     "metadata": {},
     "output_type": "execute_result"
    },
    {
     "data": {
      "image/png": "[encoded data removed]",
      "text/plain": [
       "<Figure size 432x288 with 1 Axes>"
      ]
     },
     "metadata": {
      "needs_background": "light"
     },
     "output_type": "display_data"
    }
   ],
   "source": [
    "# plot a box plot of numeric fields only\n",
    "boxDf = df[['Age','SibSp','Parch','Fare']]\n",
    "boxDf.plot(kind='box')"
   ]
  },
  {
   "cell_type": "markdown",
   "metadata": {},
   "source": [
    "The box plot of non categorical fields shows an issue with the scale variance between the different values. This scale difference makes it difficult to compare the data spread and location between different variables. Hence, scaling is necesarry. "
   ]
  },
  {
   "cell_type": "code",
   "execution_count": 6,
   "metadata": {},
   "outputs": [
    {
     "data": {
      "text/plain": [
       "<matplotlib.axes._subplots.AxesSubplot at 0x1b7a1390080>"
      ]
     },
     "execution_count": 6,
     "metadata": {},
     "output_type": "execute_result"
    },
    {
     "data": {
      "image/png": "[encoded data removed]",
      "text/plain": [
       "<Figure size 432x288 with 1 Axes>"
      ]
     },
     "metadata": {
      "needs_background": "light"
     },
     "output_type": "display_data"
    }
   ],
   "source": [
    "# scale the data using a mapper\n",
    "mapper = DataFrameMapper([(boxDf.columns, pre.StandardScaler())])\n",
    "scaledFeatures = mapper.fit_transform(boxDf.copy(), len(boxDf.columns))\n",
    "sBoxDf = pd.DataFrame(scaledFeatures, index=boxDf.index, columns=boxDf.columns)\n",
    "\n",
    "sBoxDf.plot(kind='Box')"
   ]
  },
  {
   "cell_type": "markdown",
   "metadata": {},
   "source": [
    "Looking at the data we can see that:\n",
    "* Fare data is tightly clustered with a lot of outliers. This probably because the majority of fares are clustered together and the more luxrious fares are unpopular or too expensive \n",
    "* Age distribution seems to fairly well spread out, but with a couple of outliers at the highest ages.\n",
    "* Number of parents or children abroad seems to average around 0 in the scale with little to no range, meaning that the average is very low and very common. The outliers for the high values suggests not many family came to the trip.\n",
    "* The number of sibilings or spouses seems to have a similar average than parents or children, but higher ranges and fewer outliers suggests that sibilings/spouses number above the average are more common than families above the average."
   ]
  },
  {
   "cell_type": "markdown",
   "metadata": {},
   "source": [
    "# Methods"
   ]
  },
  {
   "cell_type": "code",
   "execution_count": 7,
   "metadata": {},
   "outputs": [],
   "source": [
    "# Change categorical fields with strings to ints \n",
    "# for fitting\n",
    "\n",
    "cTestDf['Sex'] = cTestDf['Sex'].replace(['female'],0)\n",
    "cTestDf['Sex'] = cTestDf['Sex'].replace(['male'],1)\n",
    "\n",
    "cTrainDf['Sex'] = cTrainDf['Sex'].replace(['female'],0)\n",
    "cTrainDf['Sex'] = cTrainDf['Sex'].replace(['male'],1)\n",
    "\n",
    "# Add new binary variables for 2 value embarked \n",
    "cTestDf['EmbarkedS'] = cTestDf['Embarked']\n",
    "cTestDf['EmbarkedS'] = cTestDf['EmbarkedS'].replace(['S'],1)\n",
    "cTestDf['EmbarkedS'] = cTestDf['EmbarkedS'].replace(['Q'],0)\n",
    "cTestDf['EmbarkedS'] = cTestDf['EmbarkedS'].replace(['C'],0)\n",
    "\n",
    "cTestDf['EmbarkedQ'] = cTestDf['Embarked']\n",
    "cTestDf['EmbarkedQ'] = cTestDf['EmbarkedQ'].replace(['S'],0)\n",
    "cTestDf['EmbarkedQ'] = cTestDf['EmbarkedQ'].replace(['Q'],1)\n",
    "cTestDf['EmbarkedQ'] = cTestDf['EmbarkedQ'].replace(['C'],0)\n",
    "\n",
    "#cTestDf['EmbarkedC'] = cTestDf['Embarked']\n",
    "#cTestDf['EmbarkedC'] = cTestDf['EmbarkedC'].replace(['S'],0)\n",
    "#cTestDf['EmbarkedC'] = cTestDf['EmbarkedC'].replace(['Q'],0)\n",
    "#cTestDf['EmbarkedC'] = cTestDf['EmbarkedC'].replace(['C'],1)\n",
    "\n",
    "\n",
    "cTrainDf['EmbarkedS'] = cTrainDf['Embarked']\n",
    "cTrainDf['EmbarkedS'] = cTrainDf['EmbarkedS'].replace(['S'],1)\n",
    "cTrainDf['EmbarkedS'] = cTrainDf['EmbarkedS'].replace(['Q'],0)\n",
    "cTrainDf['EmbarkedS'] = cTrainDf['EmbarkedS'].replace(['C'],0)\n",
    "\n",
    "cTrainDf['EmbarkedQ'] = cTrainDf['Embarked']\n",
    "cTrainDf['EmbarkedQ'] = cTrainDf['EmbarkedQ'].replace(['S'],0)\n",
    "cTrainDf['EmbarkedQ'] = cTrainDf['EmbarkedQ'].replace(['Q'],1)\n",
    "cTrainDf['EmbarkedQ'] = cTrainDf['EmbarkedQ'].replace(['C'],0)\n",
    "\n",
    "#cTrainDf['EmbarkedC'] = cTrainDf['Embarked']\n",
    "#cTrainDf['EmbarkedC'] = cTrainDf['EmbarkedC'].replace(['S'],0)\n",
    "#cTrainDf['EmbarkedC'] = cTrainDf['EmbarkedC'].replace(['Q'],0)\n",
    "#cTrainDf['EmbarkedC'] = cTrainDf['EmbarkedC'].replace(['C'],1)\n",
    "\n",
    "cTrainDf = cTrainDf.drop(columns=['Embarked']) # drop original, no longer needed\n",
    "cTestDf = cTestDf.drop(columns=['Embarked']) # drop original, no longer needed\n",
    "\n",
    "# separate predictors from response and scale predictors\n",
    "\n",
    "testPred = cTestDf.loc[:, cTestDf.columns != 'Survived']\n",
    "testRes = cTestDf['Survived']\n",
    "trainPred = cTrainDf.loc[:, cTrainDf.columns != 'Survived']\n",
    "trainRes = cTrainDf['Survived']\n",
    "\n",
    "mapper = DataFrameMapper([(trainPred.columns, pre.StandardScaler())])\n",
    "scaledFeatures = mapper.fit_transform(trainPred.copy(), len(trainPred.columns))\n",
    "sTrainPred = pd.DataFrame(scaledFeatures, index=trainPred.index, columns=trainPred.columns)\n",
    "\n",
    "mapper = DataFrameMapper([(testPred.columns, pre.StandardScaler())])\n",
    "scaledFeatures = mapper.fit_transform(testPred.copy(), len(testPred.columns))\n",
    "sTestPred = pd.DataFrame(scaledFeatures, index=testPred.index, columns=testPred.columns)\n",
    "\n",
    "## print metrics (Accuracy, confusion, f1)\n",
    "def printMetrics(prediction):\n",
    "    print('accuracy', met.accuracy_score(testRes, prediction))\n",
    "    print()\n",
    "    print(met.confusion_matrix(testRes, prediction))\n",
    "    print()\n",
    "    print('f1', met.f1_score(testRes, prediction))"
   ]
  },
  {
   "cell_type": "markdown",
   "metadata": {},
   "source": [
    "## Logistic Regression\n",
    "\n",
    "Logistic Regression is a linear classification method. Logistic Regression is considered a supervised method because it takes in the data and predefined labels. \n",
    "\n",
    "To achieve its classification, Logistic Regression fits a line to separate the data into classes. The line is fitted by minimising the Mean Square Error (error between line and points) by changing the coefficients assigned to variables and the intercept. To minimise the error a method called gradient descent is used which updates the parameters (coeffients and intercepts) through the use to their partial derviates to find a local minimum/maximum.\n",
    "\n",
    "Logistic regression finds the label by using a transformation function (e.g. sigmoid) to decide whether the points are in a particular class or not based on the value of the function."
   ]
  },
  {
   "cell_type": "code",
   "execution_count": 21,
   "metadata": {},
   "outputs": [],
   "source": [
    "# Fit and prediction\n",
    "clf = LogisticRegression().fit(sTrainPred, trainRes)\n",
    "prediction = clf.predict(sTestPred)"
   ]
  },
  {
   "cell_type": "markdown",
   "metadata": {},
   "source": [
    "### Coefficents Interpretation"
   ]
  },
  {
   "cell_type": "markdown",
   "metadata": {},
   "source": []
  },
  {
   "cell_type": "code",
   "execution_count": 22,
   "metadata": {},
   "outputs": [
    {
     "name": "stdout",
     "output_type": "stream",
     "text": [
      "           0         0\n",
      "0     Pclass -0.904127\n",
      "1        Sex -1.272542\n",
      "2        Age -0.515014\n",
      "3      SibSp -0.355794\n",
      "4      Parch -0.072713\n",
      "5       Fare  0.099337\n",
      "6  EmbarkedS -0.185054\n",
      "7  EmbarkedQ -0.013494\n",
      "8  intercept -0.649258\n"
     ]
    }
   ],
   "source": [
    "# create table for coefs\n",
    "coefs = pd.concat([pd.DataFrame(trainPred.columns),\n",
    "                 pd.DataFrame(np.transpose(clf.coef_))],\n",
    "                axis = 1)\n",
    "coefs.loc[len(coefs)] = ['intercept', clf.intercept_[0]]\n",
    "print(coefs) # print table"
   ]
  },
  {
   "cell_type": "markdown",
   "metadata": {},
   "source": [
    "The coefficient can help in interpreting the effects of predictors on the prediction/response. The following observations can be made:\n",
    "* Sex (encoded with 0 female and 1 male) is the strongest predictor, and is negative suggesting females had a higher survival rate than the other sex.\n",
    "* Embarked predictors had a weak effect generally, suggest the port of embarkment had little impact.\n",
    "* Other variables that were strong were Pclass1 (positive), Pclass3 (negative) and Age (negative). Suggests that younger people from 1st class had higher survival rates than older people and people in 3rd class.\n",
    "* Interstingly spouses seem to have lower survival according to this model (negative) compares to families which had a very small negative coefficent (possible little impact)."
   ]
  },
  {
   "cell_type": "markdown",
   "metadata": {},
   "source": [
    "### Metrics"
   ]
  },
  {
   "cell_type": "code",
   "execution_count": 23,
   "metadata": {},
   "outputs": [
    {
     "name": "stdout",
     "output_type": "stream",
     "text": [
      "accuracy 0.7697841726618705\n",
      "\n",
      "[[216  43]\n",
      " [ 53 105]]\n",
      "\n",
      "f1 0.6862745098039216\n"
     ]
    }
   ],
   "source": [
    "# Metrics (predtion vs Test response)\n",
    "printMetrics(prediction)"
   ]
  },
  {
   "cell_type": "markdown",
   "metadata": {},
   "source": [
    "The model seems to have decent accuracy at 76.98 percent (correct to 2DP), but seems to mispredict more dead than mispredicting survival generally (which possibly led to a lower F1)."
   ]
  },
  {
   "cell_type": "markdown",
   "metadata": {},
   "source": [
    "## Support Vector Machines\n",
    "\n",
    "Support Vector Machines help improve logistic regression by selecting the line with the largest margin to separate the two classes. To do this, support vector machines add two lines (w ^ T + b) = 1 and (w ^ T + b) = -1  (where w is the vector of coefficients transposed and b is the intercept) to represent the margins. To find the maximum width, the line is varried (intercept and coefficent) to maximise (or minimise the inverse) the distances to the line but this time with the restriction thatt no points can be ahead of the margins of the line. To decide the points label, the sign of the function of the point is used. \n",
    "\n",
    "Support Vector Machines can have two types of margins:\n",
    "* Hard: doesn't tolerate points outside of their margins (narrower)\n",
    "* Soft: more tolerance for points outside their margins (wider)\n",
    "\n",
    "The hardness of the margins is decided by variable C, which adds a penelty to the error of margins (larger C more penalty and harder).\n",
    "\n",
    "To help interpreting non linear data, a kernel can be used to carry what is known as a \"kernel trick\", which essentially transforms the data to a higher dimension. There are various kernels that can be used, the most common is the Raidial Bias Function (RBF). RBF takes a gamma parameter which controls the variance or influence of the Support Vector Machine (the higher the gamma the lower the variance)."
   ]
  },
  {
   "cell_type": "markdown",
   "metadata": {},
   "source": [
    "### Hyperparameter Parameter Tuning "
   ]
  },
  {
   "cell_type": "code",
   "execution_count": 24,
   "metadata": {},
   "outputs": [
    {
     "name": "stdout",
     "output_type": "stream",
     "text": [
      "# Tuning hyper-parameters\n",
      "best parameters:\n",
      "{'C': 100, 'gamma': 0.01, 'kernel': 'rbf'}\n",
      "-------------------------------------\n",
      "0.618 (+/-0.002) for {'C': 1, 'gamma': 0.0001, 'kernel': 'rbf'}\n",
      "0.792 (+/-0.037) for {'C': 1, 'gamma': 0.01, 'kernel': 'rbf'}\n",
      "0.826 (+/-0.042) for {'C': 1, 'gamma': 0.1, 'kernel': 'rbf'}\n",
      "0.816 (+/-0.046) for {'C': 1, 'gamma': 0.5, 'kernel': 'rbf'}\n",
      "0.791 (+/-0.054) for {'C': 10, 'gamma': 0.0001, 'kernel': 'rbf'}\n",
      "0.803 (+/-0.029) for {'C': 10, 'gamma': 0.01, 'kernel': 'rbf'}\n",
      "0.819 (+/-0.053) for {'C': 10, 'gamma': 0.1, 'kernel': 'rbf'}\n",
      "0.793 (+/-0.039) for {'C': 10, 'gamma': 0.5, 'kernel': 'rbf'}\n",
      "0.786 (+/-0.037) for {'C': 100, 'gamma': 0.0001, 'kernel': 'rbf'}\n",
      "0.829 (+/-0.062) for {'C': 100, 'gamma': 0.01, 'kernel': 'rbf'}\n",
      "0.799 (+/-0.070) for {'C': 100, 'gamma': 0.1, 'kernel': 'rbf'}\n",
      "0.775 (+/-0.041) for {'C': 100, 'gamma': 0.5, 'kernel': 'rbf'}\n",
      "0.787 (+/-0.039) for {'C': 1000, 'gamma': 0.0001, 'kernel': 'rbf'}\n",
      "0.820 (+/-0.046) for {'C': 1000, 'gamma': 0.01, 'kernel': 'rbf'}\n",
      "0.782 (+/-0.032) for {'C': 1000, 'gamma': 0.1, 'kernel': 'rbf'}\n",
      "0.748 (+/-0.045) for {'C': 1000, 'gamma': 0.5, 'kernel': 'rbf'}\n"
     ]
    }
   ],
   "source": [
    "# Code adapted from https://github.com/yuguan1/example-ML-code\n",
    "\n",
    "# Set the parameters by cross-validation  ['linear', 'rbf', 'sigmoid','poly'],\n",
    "\n",
    "parameters = [{'kernel': ['rbf'],\n",
    "                'gamma': [1e-4, 0.01, 0.1, 0.5],\n",
    "                'C': [1, 10, 100, 1000]}]\n",
    "\n",
    "# Tune parameters using 5 fold cross validation \n",
    "\n",
    "print(\"# Tuning hyper-parameters\")\n",
    "clf = GridSearchCV(SVC(), parameters, cv=5)\n",
    "clf.fit(sTrainPred, trainRes)\n",
    "\n",
    "print('best parameters:')\n",
    "print(clf.best_params_)\n",
    "print('-------------------------------------')\n",
    "means = clf.cv_results_['mean_test_score']\n",
    "stds = clf.cv_results_['std_test_score']\n",
    "for mean, std, params in zip(means, stds, clf.cv_results_['params']):\n",
    "    print(\"%0.3f (+/-%0.03f) for %r\"\n",
    "          % (mean, std * 2, params))"
   ]
  },
  {
   "cell_type": "markdown",
   "metadata": {},
   "source": [
    "To find the ideal parameters for the Support Vector Machine (C and gamma as stated before), k fold cross validation using the training data was carried where k = 5. In k fold cross validation the data is randomly divided into k folds, one fold is used as test data and the rest as trainning data. This techinques will basically be used to train and test the model with different parameters with each set of parameters compared using accuracy (the pparameters with the highest accuracy is chosen as ideal).\n",
    "\n",
    "The results with 5 fold cross validation showed that the ideal C is 100 (hard and narrow margins) and a gamma of 0.01 (relatively small variance). "
   ]
  },
  {
   "cell_type": "code",
   "execution_count": 26,
   "metadata": {},
   "outputs": [
    {
     "name": "stdout",
     "output_type": "stream",
     "text": [
      "accuracy 0.7793764988009593\n",
      "\n",
      "[[224  35]\n",
      " [ 57 101]]\n",
      "\n",
      "f1 0.6870748299319728\n"
     ]
    }
   ],
   "source": [
    "# Fit and predict using optimal params from cv\n",
    "optimalC = 100\n",
    "optimalGamma = 0.01\n",
    "clf.fit(sTrainPred, trainRes)\n",
    "prediction = clf.predict(sTestPred)\n",
    "\n",
    "# Metrics (predtion vs Test response)\n",
    "\n",
    "printMetrics(prediction)"
   ]
  },
  {
   "cell_type": "markdown",
   "metadata": {},
   "source": [
    "When the optimal values are selected (C = 100 and Gamma = 0.01) the accuracy of the Support Vector Machine model is slightly better than the logistic regression. However, the f1 score seems to have been slightly harmed as a result of this model picking even more mispredicted deaths than logistic regression, meaning that this model failed at fixing the main issue with the previous model."
   ]
  },
  {
   "cell_type": "markdown",
   "metadata": {},
   "source": []
  },
  {
   "cell_type": "markdown",
   "metadata": {},
   "source": [
    "## Decision Tree"
   ]
  },
  {
   "cell_type": "code",
   "execution_count": 94,
   "metadata": {},
   "outputs": [
    {
     "name": "stdout",
     "output_type": "stream",
     "text": [
      "# Tuning hyper-parameters\n",
      "best parameters:\n",
      "{'max_depth': 6}\n",
      "-------------------------------------\n",
      "0.773 (+/-0.038) for {'max_depth': 2}\n",
      "0.809 (+/-0.028) for {'max_depth': 3}\n",
      "0.805 (+/-0.055) for {'max_depth': 4}\n",
      "0.812 (+/-0.058) for {'max_depth': 5}\n",
      "0.816 (+/-0.047) for {'max_depth': 6}\n",
      "0.812 (+/-0.040) for {'max_depth': 7}\n",
      "0.807 (+/-0.068) for {'max_depth': 8}\n",
      "0.805 (+/-0.060) for {'max_depth': 9}\n",
      "0.809 (+/-0.055) for {'max_depth': 10}\n"
     ]
    }
   ],
   "source": [
    "parameters = [{'max_depth': [3,4,5,6,7,8,9,10]}]\n",
    "\n",
    "# Tune parameters using 5 fold cross validation \n",
    "\n",
    "print(\"# Tuning hyper-parameters\")\n",
    "clf = GridSearchCV(DecisionTreeClassifier(), parameters, cv=5)\n",
    "clf.fit(sTrainPred, trainRes)\n",
    "\n",
    "print('best parameters:')\n",
    "print(clf.best_params_)\n",
    "print('-------------------------------------')\n",
    "means = clf.cv_results_['mean_test_score']\n",
    "stds = clf.cv_results_['std_test_score']\n",
    "for mean, std, params in zip(means, stds, clf.cv_results_['params']):\n",
    "    print(\"%0.3f (+/-%0.03f) for %r\"\n",
    "          % (mean, std * 2, params))"
   ]
  },
  {
   "cell_type": "code",
   "execution_count": 105,
   "metadata": {},
   "outputs": [
    {
     "name": "stdout",
     "output_type": "stream",
     "text": [
      "accuracy 0.762589928057554\n",
      "\n",
      "[[219  40]\n",
      " [ 59  99]]\n",
      "\n",
      "f1 0.6666666666666667\n"
     ]
    }
   ],
   "source": [
    "# fit and prediction\n",
    "optimalDepth = 6\n",
    "\n",
    "clf = DecisionTreeClassifier(max_depth = optimalDepth)\n",
    "clf.fit(sTrainPred, trainRes)\n",
    "prediction = clf.predict(sTestPred)\n",
    "\n",
    "# Metrics (prediction vs Test response)\n",
    "\n",
    "printMetrics(prediction)"
   ]
  },
  {
   "cell_type": "code",
   "execution_count": 92,
   "metadata": {},
   "outputs": [],
   "source": [
    "# RND = BAD +HYPERS"
   ]
  },
  {
   "cell_type": "markdown",
   "metadata": {},
   "source": [
    "## Random Forest"
   ]
  },
  {
   "cell_type": "code",
   "execution_count": 112,
   "metadata": {},
   "outputs": [
    {
     "name": "stdout",
     "output_type": "stream",
     "text": [
      "# Tuning hyper-parameters\n",
      "best parameters:\n",
      "{'max_depth': 10, 'n_estimators': 100}\n",
      "-------------------------------------\n",
      "0.802 (+/-0.049) for {'max_depth': 3, 'n_estimators': 10}\n",
      "0.807 (+/-0.057) for {'max_depth': 3, 'n_estimators': 20}\n",
      "0.801 (+/-0.069) for {'max_depth': 3, 'n_estimators': 40}\n",
      "0.819 (+/-0.048) for {'max_depth': 3, 'n_estimators': 100}\n",
      "0.820 (+/-0.041) for {'max_depth': 3, 'n_estimators': 200}\n",
      "0.805 (+/-0.055) for {'max_depth': 3, 'n_estimators': 300}\n",
      "0.823 (+/-0.032) for {'max_depth': 4, 'n_estimators': 10}\n",
      "0.823 (+/-0.045) for {'max_depth': 4, 'n_estimators': 20}\n",
      "0.816 (+/-0.044) for {'max_depth': 4, 'n_estimators': 40}\n",
      "0.822 (+/-0.048) for {'max_depth': 4, 'n_estimators': 100}\n",
      "0.819 (+/-0.063) for {'max_depth': 4, 'n_estimators': 200}\n",
      "0.826 (+/-0.048) for {'max_depth': 4, 'n_estimators': 300}\n",
      "0.819 (+/-0.043) for {'max_depth': 5, 'n_estimators': 10}\n",
      "0.808 (+/-0.067) for {'max_depth': 5, 'n_estimators': 20}\n",
      "0.819 (+/-0.047) for {'max_depth': 5, 'n_estimators': 40}\n",
      "0.819 (+/-0.056) for {'max_depth': 5, 'n_estimators': 100}\n",
      "0.821 (+/-0.041) for {'max_depth': 5, 'n_estimators': 200}\n",
      "0.821 (+/-0.065) for {'max_depth': 5, 'n_estimators': 300}\n",
      "0.816 (+/-0.077) for {'max_depth': 6, 'n_estimators': 10}\n",
      "0.820 (+/-0.051) for {'max_depth': 6, 'n_estimators': 20}\n",
      "0.819 (+/-0.065) for {'max_depth': 6, 'n_estimators': 40}\n",
      "0.822 (+/-0.061) for {'max_depth': 6, 'n_estimators': 100}\n",
      "0.822 (+/-0.066) for {'max_depth': 6, 'n_estimators': 200}\n",
      "0.823 (+/-0.088) for {'max_depth': 6, 'n_estimators': 300}\n",
      "0.827 (+/-0.059) for {'max_depth': 7, 'n_estimators': 10}\n",
      "0.826 (+/-0.043) for {'max_depth': 7, 'n_estimators': 20}\n",
      "0.822 (+/-0.064) for {'max_depth': 7, 'n_estimators': 40}\n",
      "0.817 (+/-0.049) for {'max_depth': 7, 'n_estimators': 100}\n",
      "0.822 (+/-0.072) for {'max_depth': 7, 'n_estimators': 200}\n",
      "0.818 (+/-0.063) for {'max_depth': 7, 'n_estimators': 300}\n",
      "0.828 (+/-0.044) for {'max_depth': 8, 'n_estimators': 10}\n",
      "0.823 (+/-0.068) for {'max_depth': 8, 'n_estimators': 20}\n",
      "0.821 (+/-0.049) for {'max_depth': 8, 'n_estimators': 40}\n",
      "0.820 (+/-0.042) for {'max_depth': 8, 'n_estimators': 100}\n",
      "0.829 (+/-0.061) for {'max_depth': 8, 'n_estimators': 200}\n",
      "0.822 (+/-0.059) for {'max_depth': 8, 'n_estimators': 300}\n",
      "0.825 (+/-0.059) for {'max_depth': 9, 'n_estimators': 10}\n",
      "0.823 (+/-0.073) for {'max_depth': 9, 'n_estimators': 20}\n",
      "0.822 (+/-0.054) for {'max_depth': 9, 'n_estimators': 40}\n",
      "0.826 (+/-0.058) for {'max_depth': 9, 'n_estimators': 100}\n",
      "0.828 (+/-0.062) for {'max_depth': 9, 'n_estimators': 200}\n",
      "0.828 (+/-0.059) for {'max_depth': 9, 'n_estimators': 300}\n",
      "0.819 (+/-0.059) for {'max_depth': 10, 'n_estimators': 10}\n",
      "0.826 (+/-0.058) for {'max_depth': 10, 'n_estimators': 20}\n",
      "0.822 (+/-0.047) for {'max_depth': 10, 'n_estimators': 40}\n",
      "0.832 (+/-0.067) for {'max_depth': 10, 'n_estimators': 100}\n",
      "0.826 (+/-0.058) for {'max_depth': 10, 'n_estimators': 200}\n",
      "0.825 (+/-0.057) for {'max_depth': 10, 'n_estimators': 300}\n"
     ]
    }
   ],
   "source": [
    "parameters = [{'max_depth': [3,4,5,6,7,8,9,10],\n",
    "               'n_estimators': [10,20,40,100,200,300]}]\n",
    "\n",
    "# Tune parameters using 5 fold cross validation \n",
    "\n",
    "print(\"# Tuning hyper-parameters\")\n",
    "clf = GridSearchCV(RandomForestClassifier(), parameters, cv=5)\n",
    "clf.fit(sTrainPred, trainRes)\n",
    "\n",
    "print('best parameters:')\n",
    "print(clf.best_params_)\n",
    "print('-------------------------------------')\n",
    "means = clf.cv_results_['mean_test_score']\n",
    "stds = clf.cv_results_['std_test_score']\n",
    "for mean, std, params in zip(means, stds, clf.cv_results_['params']):\n",
    "    print(\"%0.3f (+/-%0.03f) for %r\"\n",
    "          % (mean, std * 2, params))"
   ]
  },
  {
   "cell_type": "code",
   "execution_count": 88,
   "metadata": {},
   "outputs": [
    {
     "name": "stdout",
     "output_type": "stream",
     "text": [
      "accuracy 0.762589928057554\n",
      "\n",
      "[[227  32]\n",
      " [ 67  91]]\n",
      "\n",
      "f1 0.6476868327402135\n"
     ]
    }
   ],
   "source": [
    "# fit and prediction\n",
    "optimalDepth = 10\n",
    "optimalEstimators = 100\n",
    "# max_depth=3, n_estimators=20, max_features=1\n",
    "clf = RandomForestClassifier(max_depth = optimalDepth, n_estimators = optimalEstimators)\n",
    "clf.fit(sTrainPred, trainRes)\n",
    "prediction = clf.predict(sTestPred)\n",
    "\n",
    "# Metrics (predtion vs Test response)\n",
    "\n",
    "printMetrics(prediction)"
   ]
  },
  {
   "cell_type": "markdown",
   "metadata": {},
   "source": [
    "# RND = BAD +HYPERS"
   ]
  }
 ],
 "metadata": {
  "kernelspec": {
   "display_name": "Python 3",
   "language": "python",
   "name": "python3"
  },
  "language_info": {
   "codemirror_mode": {
    "name": "ipython",
    "version": 3
   },
   "file_extension": ".py",
   "mimetype": "text/x-python",
   "name": "python",
   "nbconvert_exporter": "python",
   "pygments_lexer": "ipython3",
   "version": "3.7.0"
  }
 },
 "nbformat": 4,
 "nbformat_minor": 2
}
