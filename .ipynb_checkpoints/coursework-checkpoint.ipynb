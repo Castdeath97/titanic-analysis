{
 "cells": [
  {
   "cell_type": "markdown",
   "metadata": {},
   "source": [
    "# Introduction\n",
    "\n",
    "## Report and Problem Introduction\n",
    "\n",
    "This report documents the analysis and modelling of the Titanic dataset from a Kaggle competition in attempt to predict survival. The titanic dataset stores 11 attributes about the passengers of the ocean linear from the aforementioned survival, age, sex, etc. During this analysis, the dataset will be summarise using exploratory techinques and then modelled with machine learning methods. The methods will be compared using their accuracy and other relevent features and will be used to observe the general traits that effect survival. "
   ]
  },
  {
   "cell_type": "code",
   "execution_count": 1,
   "metadata": {},
   "outputs": [
    {
     "name": "stdout",
     "output_type": "stream",
     "text": [
      "Train Counts: Initial\n",
      "PassengerId    891\n",
      "Survived       891\n",
      "Pclass         891\n",
      "Name           891\n",
      "Sex            891\n",
      "Age            714\n",
      "SibSp          891\n",
      "Parch          891\n",
      "Ticket         891\n",
      "Fare           891\n",
      "Cabin          204\n",
      "Embarked       889\n",
      "dtype: int64\n",
      "Test Counts: Initial\n",
      "PassengerId    418\n",
      "Survived       418\n",
      "Pclass         418\n",
      "Name           418\n",
      "Sex            418\n",
      "Age            332\n",
      "SibSp          418\n",
      "Parch          418\n",
      "Ticket         418\n",
      "Fare           417\n",
      "Cabin           91\n",
      "Embarked       418\n",
      "dtype: int64\n",
      "Train Counts: After dropping fields\n",
      "Survived    891\n",
      "Pclass      891\n",
      "Sex         891\n",
      "Age         714\n",
      "SibSp       891\n",
      "Parch       891\n",
      "Fare        891\n",
      "Embarked    889\n",
      "dtype: int64\n",
      "Test Counts: After dropping fields\n",
      "Survived    418\n",
      "Pclass      418\n",
      "Sex         418\n",
      "Age         332\n",
      "SibSp       418\n",
      "Parch       418\n",
      "Fare        417\n",
      "Embarked    418\n",
      "dtype: int64\n",
      "Train Counts: After fixing Age NAs\n",
      "Survived    891\n",
      "Pclass      891\n",
      "Sex         891\n",
      "Age         891\n",
      "SibSp       891\n",
      "Parch       891\n",
      "Fare        891\n",
      "Embarked    889\n",
      "dtype: int64\n",
      "Test Counts: After fixing Age NAs\n",
      "Survived    418\n",
      "Pclass      418\n",
      "Sex         418\n",
      "Age         418\n",
      "SibSp       418\n",
      "Parch       418\n",
      "Fare        417\n",
      "Embarked    418\n",
      "dtype: int64\n",
      "Train Counts: After dropping rows with NAs\n",
      "Survived    889\n",
      "Pclass      889\n",
      "Sex         889\n",
      "Age         889\n",
      "SibSp       889\n",
      "Parch       889\n",
      "Fare        889\n",
      "Embarked    889\n",
      "dtype: int64\n",
      "Test Counts: After dropping rows with NAs\n",
      "Survived    417\n",
      "Pclass      417\n",
      "Sex         417\n",
      "Age         417\n",
      "SibSp       417\n",
      "Parch       417\n",
      "Fare        417\n",
      "Embarked    417\n",
      "dtype: int64\n"
     ]
    },
    {
     "name": "stderr",
     "output_type": "stream",
     "text": [
      "C:\\ProgramData\\Anaconda3\\lib\\site-packages\\pandas\\core\\generic.py:5434: SettingWithCopyWarning: \n",
      "A value is trying to be set on a copy of a slice from a DataFrame\n",
      "\n",
      "See the caveats in the documentation: http://pandas.pydata.org/pandas-docs/stable/indexing.html#indexing-view-versus-copy\n",
      "  self._update_inplace(new_data)\n"
     ]
    }
   ],
   "source": [
    "# Data Loading\n",
    "\n",
    "import pandas as pd\n",
    "\n",
    "# load using pandas to get pandas dfs\n",
    "trainDf = pd.read_csv('train.csv')\n",
    "testDf = pd.read_csv('test.csv')\n",
    "\n",
    "# Data Cleaning Functions\n",
    "\n",
    "# Drops unrequired fields (id, ticket, cabin and name)\n",
    "def dropFields(df):\n",
    "    df = df.drop('PassengerId', axis=1)\n",
    "    df = df.drop('Ticket', axis=1)\n",
    "    df = df.drop('Cabin', axis=1)\n",
    "    df = df.drop('Name', axis=1)\n",
    "    return(df)\n",
    "\n",
    "# replaces a given NA ages with averages\n",
    "def fixNaAges(df, sex):\n",
    "    # find Df for chosen Sex and record average age\n",
    "    sexDf = df[df.Sex == sex] \n",
    "    avgSexAge = int(round(sexDf.Age.mean()))\n",
    "    \n",
    "    # Update Age NAs with the calculated average \n",
    "    sexDf.fillna({'Age':avgSexAge}, inplace = True)\n",
    "    \n",
    "    # copy updated Df for chosen sex to df and return\n",
    "    df[df.Sex == sex] = sexDf\n",
    "    return(df)\n",
    "\n",
    "# prints counts for the two dfs\n",
    "def printCounts(trainDf, testDf, caption):\n",
    "    print(\"Train Counts: \" + caption)\n",
    "    print(trainDf.count())\n",
    "    print(\"Test Counts: \" + caption)\n",
    "    print(testDf.count())\n",
    "    \n",
    "# Data cleaning\n",
    "\n",
    "# Print inital counts \n",
    "printCounts(trainDf, testDf, \"Initial\")\n",
    "\n",
    "# Drop Fields\n",
    "cTrainDf = dropFields(trainDf)\n",
    "cTestDf = dropFields(testDf)\n",
    "printCounts(cTrainDf, cTestDf, \"After dropping fields\")\n",
    "\n",
    "# Fix age NAs with sex average ages\n",
    "cTrainDf = fixNaAges(cTrainDf, \"male\")\n",
    "cTrainDf = fixNaAges(cTrainDf, \"female\")\n",
    "cTestDf = fixNaAges(cTestDf, \"male\")\n",
    "cTestDf = fixNaAges(cTestDf, \"female\")\n",
    "printCounts(cTrainDf, cTestDf, \"After fixing Age NAs\")\n",
    "\n",
    "# Drop any left NAs (a few from embarkment and fare)\n",
    "cTestDf = cTestDf.dropna(axis = 0)\n",
    "cTrainDf = cTrainDf.dropna(axis = 0)\n",
    "printCounts(cTrainDf, cTestDf, \"After dropping rows with NAs\")\n",
    "\n",
    "# Change categorical data to use digits\n",
    "\n",
    "# Change to a categorical type\n",
    "#cTestDf.Sex = pd.Categorical(cTestDf.Sex)\n",
    "#cTrainDf.Sex = pd.Categorical(cTrainDf.Sex)\n",
    "#cTrainDf.Embarked = pd.Categorical(cTrainDf.Embarked)\n",
    "#cTestDf.Embarked = pd.Categorical(cTestDf.Embarked)\n",
    "\n",
    "# use categorical type codes to store it\n",
    "#cTestDf.Sex = cTestDf.Sex.cat.codes\n",
    "#cTrainDf.Sex =  cTrainDf.Sex.cat.codes\n",
    "#cTestDf.Embarked = cTestDf.Embarked.cat.codes\n",
    "#cTrainDf.Embarked =  cTrainDf.Embarked.cat.codes"
   ]
  },
  {
   "cell_type": "markdown",
   "metadata": {},
   "source": [
    "## Dataset and Cleaning\n",
    "\n",
    "Basic data cleaning was done with the assistance of the Pandas library functions (used for the data frames). In the data cleaning process, fields with a lot of null values (cabin) and values that are difficult to model (e.g. names, ids and tickets) are removed. Also, null values in the age fields are updated by using the averages of the age for each sex, this is done instead of dropping them to avoid losing other patterns in rows while maintaining the average ages. Lastly, rows with nulls in the fare field (1 in the test data) and embarked (2 in the training data) are removed, no attempt was made to replace them because the small number of removed fields will not have an sizable impact on the data."
   ]
  },
  {
   "cell_type": "markdown",
   "metadata": {},
   "source": [
    "## Graphical Summaries and Transformations"
   ]
  },
  {
   "cell_type": "code",
   "execution_count": 2,
   "metadata": {},
   "outputs": [],
   "source": [
    "# Combine both data sets for summaries \n",
    "df = pd.concat([cTestDf, cTrainDf], sort = False)"
   ]
  },
  {
   "cell_type": "markdown",
   "metadata": {},
   "source": [
    "### Categorical Data (Freqency Bar Plots)"
   ]
  },
  {
   "cell_type": "code",
   "execution_count": 37,
   "metadata": {
    "scrolled": true
   },
   "outputs": [
    {
     "data": {
      "text/plain": [
       "Text(0.5,0,'C Cherbourg Q Queenstown S Southampton')"
      ]
     },
     "execution_count": 37,
     "metadata": {},
     "output_type": "execute_result"
    },
    {
     "data": {
      "image/png": "[encoded data removed]",
      "text/plain": [
       "<Figure size 432x288 with 3 Axes>"
      ]
     },
     "metadata": {
      "needs_background": "light"
     },
     "output_type": "display_data"
    }
   ],
   "source": [
    "import matplotlib.pyplot as plt\n",
    "\n",
    "plt.subplots_adjust(left=1, bottom=1, right=2, top=2, wspace=2, hspace=2)\n",
    "\n",
    "plt.subplot(1, 3, 1)\n",
    "df['Survived'].value_counts().plot(kind='bar')\n",
    "plt.title('Survival Freqeuncy')\n",
    "plt.xlabel('0 Died 1 Survived')\n",
    "\n",
    "plt.subplot(1, 3, 2)\n",
    "df['Pclass'].value_counts().plot(kind='bar')\n",
    "plt.title('Class Frequency')\n",
    "plt.xlabel('1st 2nd 3rd')\n",
    "\n",
    "plt.subplot(1, 3, 3)\n",
    "df['Embarked'].value_counts().plot(kind='bar')\n",
    "plt.title('Embarked Port')\n",
    "plt.xlabel('C Cherbourg Q Queenstown S Southampton')"
   ]
  },
  {
   "cell_type": "markdown",
   "metadata": {},
   "source": [
    "The follwing can be observed:\n",
    "* The majority of the passengers in the data did not seem to survive the accident according to the test and training data. \n",
    "* While the majority of passengers came as 3rd class, more 1st class passengers attended than 2nd class\n",
    "* THe absolute majority of passengers came from the Cherbourg port compared to the other two (more than double Queenstown)."
   ]
  },
  {
   "cell_type": "markdown",
   "metadata": {},
   "source": [
    "### Numerical Data (Box Plots)"
   ]
  },
  {
   "cell_type": "code",
   "execution_count": 4,
   "metadata": {},
   "outputs": [
    {
     "data": {
      "text/plain": [
       "<matplotlib.axes._subplots.AxesSubplot at 0x1ef663b90b8>"
      ]
     },
     "execution_count": 4,
     "metadata": {},
     "output_type": "execute_result"
    },
    {
     "data": {
      "image/png": "[encoded data removed]",
      "text/plain": [
       "<Figure size 432x288 with 1 Axes>"
      ]
     },
     "metadata": {
      "needs_background": "light"
     },
     "output_type": "display_data"
    }
   ],
   "source": [
    "boxDf = df[['Age','SibSp','Parch','Fare']]\n",
    "boxDf.plot(kind='box')"
   ]
  },
  {
   "cell_type": "markdown",
   "metadata": {},
   "source": [
    "The box plot of non categorical fields shows an issue with the scale variance between the different values. This scale difference makes it difficult to compare the data spread and location between different variables. Hence, scaling is necesarry. "
   ]
  },
  {
   "cell_type": "code",
   "execution_count": 11,
   "metadata": {},
   "outputs": [
    {
     "data": {
      "text/plain": [
       "<matplotlib.axes._subplots.AxesSubplot at 0x1ef679ad358>"
      ]
     },
     "execution_count": 11,
     "metadata": {},
     "output_type": "execute_result"
    },
    {
     "data": {
      "image/png": "[encoded data removed]",
      "text/plain": [
       "<Figure size 432x288 with 1 Axes>"
      ]
     },
     "metadata": {
      "needs_background": "light"
     },
     "output_type": "display_data"
    }
   ],
   "source": [
    "import sklearn.preprocessing as pre\n",
    "from sklearn_pandas import DataFrameMapper\n",
    "\n",
    "mapper = DataFrameMapper([(boxDf.columns, pre.StandardScaler())])\n",
    "scaledFeatures = mapper.fit_transform(boxDf.copy(), len(boxDf.columns))\n",
    "sBoxDf = pd.DataFrame(scaledFeatures, index=boxDf.index, columns=boxDf.columns)\n",
    "sBoxDf.plot(kind='Box')"
   ]
  },
  {
   "cell_type": "markdown",
   "metadata": {},
   "source": [
    "Looking at the data we can see that:\n",
    "* Fare data is tightly clustered with a lot of outliers. This probably because the majority of fares are clustered together and the more luxrious fares are unpopular or too expensive \n",
    "* Age distribution seems to fairly well spread out, but with a couple of outliers at the highest ages.\n",
    "* Number of parents or children abroad seems to average around 0 in the scale with little to no range, meaning that the average is very low and very common. The outliers for the high values suggests not many family came to the trip.\n",
    "* The number of sibilings or spouses seems to have a similar average than parents or children, but higher ranges and fewer outliers suggests that sibilings/spouses number above the average are more common than families above the average."
   ]
  }
 ],
 "metadata": {
  "kernelspec": {
   "display_name": "Python 3",
   "language": "python",
   "name": "python3"
  },
  "language_info": {
   "codemirror_mode": {
    "name": "ipython",
    "version": 3
   },
   "file_extension": ".py",
   "mimetype": "text/x-python",
   "name": "python",
   "nbconvert_exporter": "python",
   "pygments_lexer": "ipython3",
   "version": "3.7.0"
  }
 },
 "nbformat": 4,
 "nbformat_minor": 2
}
