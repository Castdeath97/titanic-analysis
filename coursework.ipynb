{
 "cells": [
  {
   "cell_type": "markdown",
   "metadata": {},
   "source": [
    "# Introduction\n",
    "\n",
    "## Report and Problem Introduction\n",
    "\n",
    "This report documents the analysis and modelling of the Titanic dataset from a Kaggle competition in attempt to predict survival. The titanic dataset stores 11 attributes about the passengers of the ocean linear from the aforementioned survival, age, sex, etc. During this analysis, the dataset will be summarise using exploratory techinques and then modelled with machine learning methods. The methods will be compared using their accuracy and other relevent features and will be used to observe the general traits that effect survival. "
   ]
  },
  {
   "cell_type": "code",
   "execution_count": 7,
   "metadata": {},
   "outputs": [
    {
     "name": "stdout",
     "output_type": "stream",
     "text": [
      "Train Counts: Initial\n",
      "PassengerId    891\n",
      "Survived       891\n",
      "Pclass         891\n",
      "Name           891\n",
      "Sex            891\n",
      "Age            714\n",
      "SibSp          891\n",
      "Parch          891\n",
      "Ticket         891\n",
      "Fare           891\n",
      "Cabin          204\n",
      "Embarked       889\n",
      "dtype: int64\n",
      "Test Counts: Initial\n",
      "PassengerId    418\n",
      "Pclass         418\n",
      "Name           418\n",
      "Sex            418\n",
      "Age            332\n",
      "SibSp          418\n",
      "Parch          418\n",
      "Ticket         418\n",
      "Fare           417\n",
      "Cabin           91\n",
      "Embarked       418\n",
      "dtype: int64\n",
      "Train Counts: After dropping fields\n",
      "Survived    891\n",
      "Pclass      891\n",
      "Sex         891\n",
      "Age         714\n",
      "SibSp       891\n",
      "Parch       891\n",
      "Fare        891\n",
      "Embarked    889\n",
      "dtype: int64\n",
      "Test Counts: After dropping fields\n",
      "Pclass      418\n",
      "Sex         418\n",
      "Age         332\n",
      "SibSp       418\n",
      "Parch       418\n",
      "Fare        417\n",
      "Embarked    418\n",
      "dtype: int64\n",
      "Train Counts: After fixing Age NAs\n",
      "Survived    891\n",
      "Pclass      891\n",
      "Sex         891\n",
      "Age         891\n",
      "SibSp       891\n",
      "Parch       891\n",
      "Fare        891\n",
      "Embarked    889\n",
      "dtype: int64\n",
      "Test Counts: After fixing Age NAs\n",
      "Pclass      418\n",
      "Sex         418\n",
      "Age         418\n",
      "SibSp       418\n",
      "Parch       418\n",
      "Fare        417\n",
      "Embarked    418\n",
      "dtype: int64\n",
      "Train Counts: After dropping rows with NAs\n",
      "Survived    889\n",
      "Pclass      889\n",
      "Sex         889\n",
      "Age         889\n",
      "SibSp       889\n",
      "Parch       889\n",
      "Fare        889\n",
      "Embarked    889\n",
      "dtype: int64\n",
      "Test Counts: After dropping rows with NAs\n",
      "Pclass      417\n",
      "Sex         417\n",
      "Age         417\n",
      "SibSp       417\n",
      "Parch       417\n",
      "Fare        417\n",
      "Embarked    417\n",
      "dtype: int64\n"
     ]
    },
    {
     "name": "stderr",
     "output_type": "stream",
     "text": [
      "C:\\ProgramData\\Anaconda3\\lib\\site-packages\\pandas\\core\\generic.py:5434: SettingWithCopyWarning: \n",
      "A value is trying to be set on a copy of a slice from a DataFrame\n",
      "\n",
      "See the caveats in the documentation: http://pandas.pydata.org/pandas-docs/stable/indexing.html#indexing-view-versus-copy\n",
      "  self._update_inplace(new_data)\n"
     ]
    }
   ],
   "source": [
    "# Data Loading\n",
    "\n",
    "import pandas as pd\n",
    "\n",
    "# load using pandas to get pandas dfs\n",
    "trainDf = pd.read_csv('train.csv')\n",
    "testDf = pd.read_csv('test.csv')\n",
    "\n",
    "# Data Cleaning Functions\n",
    "\n",
    "# Drops unrequired fields (id, ticket, cabin and name)\n",
    "def dropFields(df):\n",
    "    df = df.drop('PassengerId', axis=1)\n",
    "    df = df.drop('Ticket', axis=1)\n",
    "    df = df.drop('Cabin', axis=1)\n",
    "    df = df.drop('Name', axis=1)\n",
    "    return(df)\n",
    "\n",
    "# replaces a given NA ages with averages\n",
    "def fixNaAges(df, sex):\n",
    "    # find Df for chosen Sex and record average age\n",
    "    sexDf = df[df.Sex == sex] \n",
    "    avgSexAge = int(round(sexDf.Age.mean()))\n",
    "    \n",
    "    # Update Age NAs with the calculated average \n",
    "    sexDf.fillna({'Age':avgSexAge}, inplace = True)\n",
    "    \n",
    "    # copy updated Df for chosen sex to df and return\n",
    "    df[df.Sex == sex] = sexDf\n",
    "    return(df)\n",
    "\n",
    "# prints counts for the two dfs\n",
    "def printCounts(trainDf, testDf, caption):\n",
    "    print(\"Train Counts: \" + caption)\n",
    "    print(trainDf.count())\n",
    "    print(\"Test Counts: \" + caption)\n",
    "    print(testDf.count())\n",
    "    \n",
    "# Data cleaning\n",
    "\n",
    "# Print inital counts \n",
    "printCounts(trainDf, testDf, \"Initial\")\n",
    "\n",
    "# Drop Fields\n",
    "cTrainDf = dropFields(trainDf)\n",
    "cTestDf = dropFields(testDf)\n",
    "printCounts(cTrainDf, cTestDf, \"After dropping fields\")\n",
    "\n",
    "# Fix age NAs with sex average ages\n",
    "cTrainDf = fixNaAges(cTrainDf, \"male\")\n",
    "cTrainDf = fixNaAges(cTrainDf, \"female\")\n",
    "cTestDf = fixNaAges(cTestDf, \"male\")\n",
    "cTestDf = fixNaAges(cTestDf, \"female\")\n",
    "printCounts(cTrainDf, cTestDf, \"After fixing Age NAs\")\n",
    "\n",
    "# Drop any left NAs (a few from embarkment and fare)\n",
    "cTestDf = cTestDf.dropna(axis = 0)\n",
    "cTrainDf = cTrainDf.dropna(axis = 0)\n",
    "printCounts(cTrainDf, cTestDf, \"After dropping rows with NAs\")\n",
    "\n",
    "# Change categorical data to use digits\n",
    "\n",
    "# Change to a categorical type\n",
    "#cTestDf.Sex = pd.Categorical(cTestDf.Sex)\n",
    "#cTrainDf.Sex = pd.Categorical(cTrainDf.Sex)\n",
    "#cTrainDf.Embarked = pd.Categorical(cTrainDf.Embarked)\n",
    "#cTestDf.Embarked = pd.Categorical(cTestDf.Embarked)\n",
    "\n",
    "# use categorical type codes to store it\n",
    "#cTestDf.Sex = cTestDf.Sex.cat.codes\n",
    "#cTrainDf.Sex =  cTrainDf.Sex.cat.codes\n",
    "#cTestDf.Embarked = cTestDf.Embarked.cat.codes\n",
    "#cTrainDf.Embarked =  cTrainDf.Embarked.cat.codes"
   ]
  },
  {
   "cell_type": "markdown",
   "metadata": {},
   "source": [
    "## Dataset and Cleaning\n",
    "\n",
    "Basic data cleaning was done with the assistance of the Pandas library functions (used for the data frames). In the data cleaning process, fields with a lot of null values (cabin) and values that are difficult to model (e.g. names, ids and tickets) are removed. Also, null values in the age fields are updated by using the averages of the age for each sex, this is done instead of dropping them to avoid losing other patterns in rows while maintaining the average ages. Lastly, rows with nulls in the fare field (1 in the test data) and embarked (2 in the training data) are removed, no attempt was made to replace them because the small number of removed fields will not have an sizable impact on the data."
   ]
  },
  {
   "cell_type": "markdown",
   "metadata": {},
   "source": [
    "## Graphical Summaries"
   ]
  },
  {
   "cell_type": "code",
   "execution_count": 59,
   "metadata": {},
   "outputs": [],
   "source": [
    "# Combine both data sets for summaries \n",
    "# Do it for cleaned and non cleaned\n",
    "\n",
    "df = pd.concat([cTestDf, cTrainDf], sort = False)"
   ]
  },
  {
   "cell_type": "markdown",
   "metadata": {},
   "source": [
    "### Survival vs No Survival "
   ]
  },
  {
   "cell_type": "code",
   "execution_count": 65,
   "metadata": {
    "scrolled": true
   },
   "outputs": [
    {
     "data": {
      "text/plain": [
       "<matplotlib.axes._subplots.AxesSubplot at 0x214ea748a20>"
      ]
     },
     "execution_count": 65,
     "metadata": {},
     "output_type": "execute_result"
    },
    {
     "data": {
      "image/png": "[encoded data removed]",
      "text/plain": [
       "<Figure size 432x288 with 1 Axes>"
      ]
     },
     "metadata": {
      "needs_background": "light"
     },
     "output_type": "display_data"
    }
   ],
   "source": [
    "import matplotlib.pyplot as plt\n",
    "df['Survived'].value_counts().plot(kind='bar')"
   ]
  },
  {
   "cell_type": "markdown",
   "metadata": {},
   "source": []
  },
  {
   "cell_type": "code",
   "execution_count": 63,
   "metadata": {},
   "outputs": [
    {
     "data": {
      "text/plain": [
       "<matplotlib.axes._subplots.AxesSubplot at 0x214ea3edeb8>"
      ]
     },
     "execution_count": 63,
     "metadata": {},
     "output_type": "execute_result"
    },
    {
     "data": {
      "text/html": [
       "<div>\n",
       "<style scoped>\n",
       "    .dataframe tbody tr th:only-of-type {\n",
       "        vertical-align: middle;\n",
       "    }\n",
       "\n",
       "    .dataframe tbody tr th {\n",
       "        vertical-align: top;\n",
       "    }\n",
       "\n",
       "    .dataframe thead th {\n",
       "        text-align: right;\n",
       "    }\n",
       "</style>\n",
       "<table border=\"1\" class=\"dataframe\">\n",
       "  <thead>\n",
       "    <tr style=\"text-align: right;\">\n",
       "      <th></th>\n",
       "      <th>Pclass</th>\n",
       "      <th>Sex</th>\n",
       "      <th>Age</th>\n",
       "      <th>SibSp</th>\n",
       "      <th>Parch</th>\n",
       "      <th>Fare</th>\n",
       "      <th>Embarked</th>\n",
       "      <th>Survived</th>\n",
       "    </tr>\n",
       "  </thead>\n",
       "  <tbody>\n",
       "    <tr>\n",
       "      <th>0</th>\n",
       "      <td>3</td>\n",
       "      <td>1</td>\n",
       "      <td>34.5</td>\n",
       "      <td>0</td>\n",
       "      <td>0</td>\n",
       "      <td>7.8292</td>\n",
       "      <td>1</td>\n",
       "      <td>NaN</td>\n",
       "    </tr>\n",
       "    <tr>\n",
       "      <th>1</th>\n",
       "      <td>3</td>\n",
       "      <td>0</td>\n",
       "      <td>47.0</td>\n",
       "      <td>1</td>\n",
       "      <td>0</td>\n",
       "      <td>7.0000</td>\n",
       "      <td>2</td>\n",
       "      <td>NaN</td>\n",
       "    </tr>\n",
       "    <tr>\n",
       "      <th>2</th>\n",
       "      <td>2</td>\n",
       "      <td>1</td>\n",
       "      <td>62.0</td>\n",
       "      <td>0</td>\n",
       "      <td>0</td>\n",
       "      <td>9.6875</td>\n",
       "      <td>1</td>\n",
       "      <td>NaN</td>\n",
       "    </tr>\n",
       "    <tr>\n",
       "      <th>3</th>\n",
       "      <td>3</td>\n",
       "      <td>1</td>\n",
       "      <td>27.0</td>\n",
       "      <td>0</td>\n",
       "      <td>0</td>\n",
       "      <td>8.6625</td>\n",
       "      <td>2</td>\n",
       "      <td>NaN</td>\n",
       "    </tr>\n",
       "    <tr>\n",
       "      <th>4</th>\n",
       "      <td>3</td>\n",
       "      <td>0</td>\n",
       "      <td>22.0</td>\n",
       "      <td>1</td>\n",
       "      <td>1</td>\n",
       "      <td>12.2875</td>\n",
       "      <td>2</td>\n",
       "      <td>NaN</td>\n",
       "    </tr>\n",
       "  </tbody>\n",
       "</table>\n",
       "</div>"
      ],
      "text/plain": [
       "   Pclass  Sex   Age  SibSp  Parch     Fare  Embarked  Survived\n",
       "0       3    1  34.5      0      0   7.8292         1       NaN\n",
       "1       3    0  47.0      1      0   7.0000         2       NaN\n",
       "2       2    1  62.0      0      0   9.6875         1       NaN\n",
       "3       3    1  27.0      0      0   8.6625         2       NaN\n",
       "4       3    0  22.0      1      1  12.2875         2       NaN"
      ]
     },
     "execution_count": 63,
     "metadata": {},
     "output_type": "execute_result"
    },
    {
     "data": {
      "image/png": "[encoded data removed]",
      "text/plain": [
       "<Figure size 432x288 with 1 Axes>"
      ]
     },
     "metadata": {
      "needs_background": "light"
     },
     "output_type": "display_data"
    }
   ],
   "source": [
    "df.plot(kind='box')"
   ]
  }
 ],
 "metadata": {
  "kernelspec": {
   "display_name": "Python 3",
   "language": "python",
   "name": "python3"
  },
  "language_info": {
   "codemirror_mode": {
    "name": "ipython",
    "version": 3
   },
   "file_extension": ".py",
   "mimetype": "text/x-python",
   "name": "python",
   "nbconvert_exporter": "python",
   "pygments_lexer": "ipython3",
   "version": "3.7.0"
  }
 },
 "nbformat": 4,
 "nbformat_minor": 2
}
